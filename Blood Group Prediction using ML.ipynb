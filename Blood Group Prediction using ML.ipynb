{
  "cells": [
    {
      "cell_type": "code",
      "execution_count": null,
      "id": "65f753ad",
      "metadata": {
        "id": "65f753ad"
      },
      "outputs": [],
      "source": [
        "import pandas as pd"
      ]
    },
    {
      "cell_type": "code",
      "execution_count": null,
      "id": "ded2032a",
      "metadata": {
        "colab": {
          "base_uri": "https://localhost:8080/"
        },
        "id": "ded2032a",
        "outputId": "d201616d-fb12-46b2-fe50-fe6a125354ef"
      },
      "outputs": [
        {
          "output_type": "stream",
          "name": "stdout",
          "text": [
            "Mounted at /content/drive\n"
          ]
        }
      ],
      "source": [
        "from google.colab import drive\n",
        "drive.mount('/content/drive')"
      ]
    },
    {
      "cell_type": "code",
      "source": [
        "%cd /content/drive/My Drive/ds"
      ],
      "metadata": {
        "colab": {
          "base_uri": "https://localhost:8080/"
        },
        "id": "OmYQPxRcGYxy",
        "outputId": "5db809a3-d3f5-49bf-95dc-c1420173c42b"
      },
      "id": "OmYQPxRcGYxy",
      "execution_count": null,
      "outputs": [
        {
          "output_type": "stream",
          "name": "stdout",
          "text": [
            "/content/drive/My Drive/ds\n"
          ]
        }
      ]
    },
    {
      "cell_type": "code",
      "source": [
        "data = pd.read_csv('BG1.csv')"
      ],
      "metadata": {
        "id": "ZHKNUKqnQvTa"
      },
      "id": "ZHKNUKqnQvTa",
      "execution_count": null,
      "outputs": []
    },
    {
      "cell_type": "code",
      "execution_count": null,
      "id": "1f116742",
      "metadata": {
        "colab": {
          "base_uri": "https://localhost:8080/"
        },
        "id": "1f116742",
        "outputId": "6b03bbb7-63b5-4c49-e228-5ad3963c3e96"
      },
      "outputs": [
        {
          "output_type": "execute_result",
          "data": {
            "text/plain": [
              "(534, 7)"
            ]
          },
          "metadata": {},
          "execution_count": 5
        }
      ],
      "source": [
        "data.shape"
      ]
    },
    {
      "cell_type": "code",
      "execution_count": null,
      "id": "e7743863",
      "metadata": {
        "id": "e7743863"
      },
      "outputs": [],
      "source": [
        "data.head()"
      ]
    },
    {
      "cell_type": "code",
      "execution_count": null,
      "id": "0faea724",
      "metadata": {
        "colab": {
          "base_uri": "https://localhost:8080/"
        },
        "id": "0faea724",
        "outputId": "c804a60a-35ca-488c-ed4d-d6211cb57cec"
      },
      "outputs": [
        {
          "output_type": "stream",
          "name": "stdout",
          "text": [
            "<class 'pandas.core.frame.DataFrame'>\n",
            "RangeIndex: 534 entries, 0 to 533\n",
            "Data columns (total 7 columns):\n",
            " #   Column                             Non-Null Count  Dtype \n",
            "---  ------                             --------------  ----- \n",
            " 0   Timestamp                          534 non-null    object\n",
            " 1   Username                           534 non-null    object\n",
            " 2   Blood_Group                        534 non-null    object\n",
            " 3   Mother's_Blood_Group               534 non-null    object\n",
            " 4   Father's_Blood_Group               534 non-null    object\n",
            " 5   Do you have any sibling/siblings?  534 non-null    object\n",
            " 6   Sibling/siblings' Blood Group      499 non-null    object\n",
            "dtypes: object(7)\n",
            "memory usage: 29.3+ KB\n"
          ]
        }
      ],
      "source": [
        "data.info()"
      ]
    },
    {
      "cell_type": "code",
      "execution_count": null,
      "id": "8f96c688",
      "metadata": {
        "colab": {
          "base_uri": "https://localhost:8080/"
        },
        "id": "8f96c688",
        "outputId": "e628f8d4-e2f3-49c5-93ad-b6d86e2a5282"
      },
      "outputs": [
        {
          "output_type": "execute_result",
          "data": {
            "text/plain": [
              "O+            178\n",
              "B+            140\n",
              "A+             91\n",
              "Don't know     66\n",
              "AB+            31\n",
              "O-             12\n",
              "A-              7\n",
              "B-              6\n",
              "AB-             3\n",
              "Name: Blood_Group, dtype: int64"
            ]
          },
          "metadata": {},
          "execution_count": 8
        }
      ],
      "source": [
        "data['Blood_Group'].value_counts()"
      ]
    },
    {
      "cell_type": "code",
      "execution_count": null,
      "id": "5c816379",
      "metadata": {
        "colab": {
          "base_uri": "https://localhost:8080/",
          "height": 329
        },
        "id": "5c816379",
        "outputId": "4c1df210-d2d3-4586-f78b-ee2b61f96c97"
      },
      "outputs": [
        {
          "output_type": "execute_result",
          "data": {
            "text/plain": [
              "<matplotlib.axes._subplots.AxesSubplot at 0x7f7cf5e9f760>"
            ]
          },
          "metadata": {},
          "execution_count": 9
        },
        {
          "output_type": "display_data",
          "data": {
            "text/plain": [
              "<Figure size 432x288 with 1 Axes>"
            ],
            "image/png": "[encoded data removed]"
          },
          "metadata": {
            "needs_background": "light"
          }
        }
      ],
      "source": [
        "data['Blood_Group'].value_counts().plot(kind='bar', color='red')"
      ]
    },
    {
      "cell_type": "code",
      "execution_count": null,
      "id": "a4537492",
      "metadata": {
        "colab": {
          "base_uri": "https://localhost:8080/"
        },
        "id": "a4537492",
        "outputId": "511c274b-e5e3-4b7b-d74b-546677819c99"
      },
      "outputs": [
        {
          "output_type": "execute_result",
          "data": {
            "text/plain": [
              "O+            157\n",
              "B+            126\n",
              "Don't know     98\n",
              "A+             96\n",
              "AB+            24\n",
              "O-             14\n",
              "B-             10\n",
              "A-              8\n",
              "AB-             1\n",
              "Name: Mother's_Blood_Group, dtype: int64"
            ]
          },
          "metadata": {},
          "execution_count": 10
        }
      ],
      "source": [
        "data['Mother\\'s_Blood_Group'].value_counts()"
      ]
    },
    {
      "cell_type": "code",
      "execution_count": null,
      "id": "d5a6ec1a",
      "metadata": {
        "colab": {
          "base_uri": "https://localhost:8080/",
          "height": 329
        },
        "id": "d5a6ec1a",
        "outputId": "c21c8c75-74ce-476b-c671-f7325903e7c9"
      },
      "outputs": [
        {
          "output_type": "execute_result",
          "data": {
            "text/plain": [
              "<matplotlib.axes._subplots.AxesSubplot at 0x7f7cf5e4b400>"
            ]
          },
          "metadata": {},
          "execution_count": 11
        },
        {
          "output_type": "display_data",
          "data": {
            "text/plain": [
              "<Figure size 432x288 with 1 Axes>"
            ],
            "image/png": "[encoded data removed]"
          },
          "metadata": {
            "needs_background": "light"
          }
        }
      ],
      "source": [
        "data['Mother\\'s_Blood_Group'].value_counts().plot(kind='bar', color='red')"
      ]
    },
    {
      "cell_type": "code",
      "execution_count": null,
      "id": "d00d8c63",
      "metadata": {
        "colab": {
          "base_uri": "https://localhost:8080/"
        },
        "id": "d00d8c63",
        "outputId": "12dc3e96-ebbe-4741-c975-1fecc3f0505e"
      },
      "outputs": [
        {
          "output_type": "execute_result",
          "data": {
            "text/plain": [
              "O+            177\n",
              "B+            125\n",
              "Don't know     96\n",
              "A+             80\n",
              "AB+            23\n",
              "O-             17\n",
              "B-              7\n",
              "AB-             5\n",
              "A-              4\n",
              "Name: Father's_Blood_Group, dtype: int64"
            ]
          },
          "metadata": {},
          "execution_count": 12
        }
      ],
      "source": [
        "data['Father\\'s_Blood_Group'].value_counts()"
      ]
    },
    {
      "cell_type": "code",
      "execution_count": null,
      "id": "35927064",
      "metadata": {
        "colab": {
          "base_uri": "https://localhost:8080/",
          "height": 329
        },
        "id": "35927064",
        "outputId": "b72f6f1c-4e30-4983-b5f7-7ea43b3b430c"
      },
      "outputs": [
        {
          "output_type": "execute_result",
          "data": {
            "text/plain": [
              "<matplotlib.axes._subplots.AxesSubplot at 0x7f7cf58cd9d0>"
            ]
          },
          "metadata": {},
          "execution_count": 13
        },
        {
          "output_type": "display_data",
          "data": {
            "text/plain": [
              "<Figure size 432x288 with 1 Axes>"
            ],
            "image/png": "[encoded data removed]"
          },
          "metadata": {
            "needs_background": "light"
          }
        }
      ],
      "source": [
        "data['Father\\'s_Blood_Group'].value_counts().plot(kind='bar', color='red')"
      ]
    },
    {
      "cell_type": "code",
      "execution_count": null,
      "id": "ead78f1f",
      "metadata": {
        "id": "ead78f1f"
      },
      "outputs": [],
      "source": [
        "# Dropping the unnecessary columns using drop method\n",
        "data=data.drop(['Timestamp'],axis=1)\n",
        "data=data.drop(['Sibling/siblings\\' Blood Group'],axis=1)\n",
        "data=data.drop(['Do you have any sibling/siblings?'],axis=1)\n",
        "data=data.drop(['Username'],axis=1)"
      ]
    },
    {
      "cell_type": "code",
      "execution_count": null,
      "id": "dedf7895",
      "metadata": {
        "colab": {
          "base_uri": "https://localhost:8080/"
        },
        "id": "dedf7895",
        "outputId": "25130a5e-b287-4c91-cf28-d713ec685aeb"
      },
      "outputs": [
        {
          "output_type": "execute_result",
          "data": {
            "text/plain": [
              "(468, 3)"
            ]
          },
          "metadata": {},
          "execution_count": 15
        }
      ],
      "source": [
        "# Removing Null Values using .loc function\n",
        "data=data.loc[data[\"Blood_Group\"] !='Don\\'t know']\n",
        "data.shape"
      ]
    },
    {
      "cell_type": "code",
      "execution_count": null,
      "id": "c35d36de",
      "metadata": {
        "colab": {
          "base_uri": "https://localhost:8080/"
        },
        "id": "c35d36de",
        "outputId": "e55ec0cb-5ad2-401b-efd1-d1aae42180dc"
      },
      "outputs": [
        {
          "output_type": "execute_result",
          "data": {
            "text/plain": [
              "(407, 3)"
            ]
          },
          "metadata": {},
          "execution_count": 16
        }
      ],
      "source": [
        "data=data.loc[data[\"Mother's_Blood_Group\"] !='Don\\'t know']\n",
        "data.shape"
      ]
    },
    {
      "cell_type": "code",
      "execution_count": null,
      "id": "0675d34b",
      "metadata": {
        "id": "0675d34b"
      },
      "outputs": [],
      "source": [
        "# Encoding the Dataset, i.e, assigning numeric values to categorical data using the LabelEncoder method\n",
        "from sklearn.preprocessing import LabelEncoder\n",
        "def Encoder(data):\n",
        "          columnsToEncode = list(data.select_dtypes(include=['category','object']))\n",
        "          le = LabelEncoder()\n",
        "          for feature in columnsToEncode:\n",
        "              try:\n",
        "                  data[feature] = le.fit_transform(data[feature])\n",
        "              except:\n",
        "                  print('Error encoding '+feature)\n",
        "          return data"
      ]
    },
    {
      "cell_type": "code",
      "execution_count": null,
      "id": "d4f206ea",
      "metadata": {
        "colab": {
          "base_uri": "https://localhost:8080/"
        },
        "id": "d4f206ea",
        "outputId": "43f97cda-c722-4331-984a-d1d981c9c980"
      },
      "outputs": [
        {
          "output_type": "stream",
          "name": "stdout",
          "text": [
            "     Blood_Group  Mother's_Blood_Group  Father's_Blood_Group\n",
            "0              4                     6                     4\n",
            "2              6                     6                     4\n",
            "3              4                     5                     0\n",
            "4              6                     6                     7\n",
            "6              0                     0                     0\n",
            "..           ...                   ...                   ...\n",
            "527            0                     2                     6\n",
            "529            4                     4                     7\n",
            "530            0                     4                     0\n",
            "531            6                     6                     7\n",
            "533            2                     0                     0\n",
            "\n",
            "[407 rows x 3 columns]\n"
          ]
        }
      ],
      "source": [
        "data=Encoder(data)\n",
        "print(data)"
      ]
    },
    {
      "cell_type": "code",
      "execution_count": null,
      "id": "95e2368d",
      "metadata": {
        "colab": {
          "base_uri": "https://localhost:8080/",
          "height": 206
        },
        "id": "95e2368d",
        "outputId": "cfd549fa-2100-408f-b193-10b1ac806c13"
      },
      "outputs": [
        {
          "output_type": "execute_result",
          "data": {
            "text/plain": [
              "   Blood_Group  Mother's_Blood_Group  Father's_Blood_Group\n",
              "0            4                     6                     4\n",
              "2            6                     6                     4\n",
              "3            4                     5                     0\n",
              "4            6                     6                     7\n",
              "6            0                     0                     0"
            ],
            "text/html": [
              "\n",
              "  <div id=\"df-62a3f625-8fe6-4e43-95d6-102dc37bfe76\">\n",
              "    <div class=\"colab-df-container\">\n",
              "      <div>\n",
              "<style scoped>\n",
              "    .dataframe tbody tr th:only-of-type {\n",
              "        vertical-align: middle;\n",
              "    }\n",
              "\n",
              "    .dataframe tbody tr th {\n",
              "        vertical-align: top;\n",
              "    }\n",
              "\n",
              "    .dataframe thead th {\n",
              "        text-align: right;\n",
              "    }\n",
              "</style>\n",
              "<table border=\"1\" class=\"dataframe\">\n",
              "  <thead>\n",
              "    <tr style=\"text-align: right;\">\n",
              "      <th></th>\n",
              "      <th>Blood_Group</th>\n",
              "      <th>Mother's_Blood_Group</th>\n",
              "      <th>Father's_Blood_Group</th>\n",
              "    </tr>\n",
              "  </thead>\n",
              "  <tbody>\n",
              "    <tr>\n",
              "      <th>0</th>\n",
              "      <td>4</td>\n",
              "      <td>6</td>\n",
              "      <td>4</td>\n",
              "    </tr>\n",
              "    <tr>\n",
              "      <th>2</th>\n",
              "      <td>6</td>\n",
              "      <td>6</td>\n",
              "      <td>4</td>\n",
              "    </tr>\n",
              "    <tr>\n",
              "      <th>3</th>\n",
              "      <td>4</td>\n",
              "      <td>5</td>\n",
              "      <td>0</td>\n",
              "    </tr>\n",
              "    <tr>\n",
              "      <th>4</th>\n",
              "      <td>6</td>\n",
              "      <td>6</td>\n",
              "      <td>7</td>\n",
              "    </tr>\n",
              "    <tr>\n",
              "      <th>6</th>\n",
              "      <td>0</td>\n",
              "      <td>0</td>\n",
              "      <td>0</td>\n",
              "    </tr>\n",
              "  </tbody>\n",
              "</table>\n",
              "</div>\n",
              "      <button class=\"colab-df-convert\" onclick=\"convertToInteractive('df-62a3f625-8fe6-4e43-95d6-102dc37bfe76')\"\n",
              "              title=\"Convert this dataframe to an interactive table.\"\n",
              "              style=\"display:none;\">\n",
              "        \n",
              "  <svg xmlns=\"http://www.w3.org/2000/svg\" height=\"24px\"viewBox=\"0 0 24 24\"\n",
              "       width=\"24px\">\n",
              "    <path d=\"M0 0h24v24H0V0z\" fill=\"none\"/>\n",
              "    <path d=\"M18.56 5.44l.94 2.06.94-2.06 2.06-.94-2.06-.94-.94-2.06-.94 2.06-2.06.94zm-11 1L8.5 8.5l.94-2.06 2.06-.94-2.06-.94L8.5 2.5l-.94 2.06-2.06.94zm10 10l.94 2.06.94-2.06 2.06-.94-2.06-.94-.94-2.06-.94 2.06-2.06.94z\"/><path d=\"M17.41 7.96l-1.37-1.37c-.4-.4-.92-.59-1.43-.59-.52 0-1.04.2-1.43.59L10.3 9.45l-7.72 7.72c-.78.78-.78 2.05 0 2.83L4 21.41c.39.39.9.59 1.41.59.51 0 1.02-.2 1.41-.59l7.78-7.78 2.81-2.81c.8-.78.8-2.07 0-2.86zM5.41 20L4 18.59l7.72-7.72 1.47 1.35L5.41 20z\"/>\n",
              "  </svg>\n",
              "      </button>\n",
              "      \n",
              "  <style>\n",
              "    .colab-df-container {\n",
              "      display:flex;\n",
              "      flex-wrap:wrap;\n",
              "      gap: 12px;\n",
              "    }\n",
              "\n",
              "    .colab-df-convert {\n",
              "      background-color: #E8F0FE;\n",
              "      border: none;\n",
              "      border-radius: 50%;\n",
              "      cursor: pointer;\n",
              "      display: none;\n",
              "      fill: #1967D2;\n",
              "      height: 32px;\n",
              "      padding: 0 0 0 0;\n",
              "      width: 32px;\n",
              "    }\n",
              "\n",
              "    .colab-df-convert:hover {\n",
              "      background-color: #E2EBFA;\n",
              "      box-shadow: 0px 1px 2px rgba(60, 64, 67, 0.3), 0px 1px 3px 1px rgba(60, 64, 67, 0.15);\n",
              "      fill: #174EA6;\n",
              "    }\n",
              "\n",
              "    [theme=dark] .colab-df-convert {\n",
              "      background-color: #3B4455;\n",
              "      fill: #D2E3FC;\n",
              "    }\n",
              "\n",
              "    [theme=dark] .colab-df-convert:hover {\n",
              "      background-color: #434B5C;\n",
              "      box-shadow: 0px 1px 3px 1px rgba(0, 0, 0, 0.15);\n",
              "      filter: drop-shadow(0px 1px 2px rgba(0, 0, 0, 0.3));\n",
              "      fill: #FFFFFF;\n",
              "    }\n",
              "  </style>\n",
              "\n",
              "      <script>\n",
              "        const buttonEl =\n",
              "          document.querySelector('#df-62a3f625-8fe6-4e43-95d6-102dc37bfe76 button.colab-df-convert');\n",
              "        buttonEl.style.display =\n",
              "          google.colab.kernel.accessAllowed ? 'block' : 'none';\n",
              "\n",
              "        async function convertToInteractive(key) {\n",
              "          const element = document.querySelector('#df-62a3f625-8fe6-4e43-95d6-102dc37bfe76');\n",
              "          const dataTable =\n",
              "            await google.colab.kernel.invokeFunction('convertToInteractive',\n",
              "                                                     [key], {});\n",
              "          if (!dataTable) return;\n",
              "\n",
              "          const docLinkHtml = 'Like what you see? Visit the ' +\n",
              "            '<a target=\"_blank\" href=https://colab.research.google.com/notebooks/data_table.ipynb>data table notebook</a>'\n",
              "            + ' to learn more about interactive tables.';\n",
              "          element.innerHTML = '';\n",
              "          dataTable['output_type'] = 'display_data';\n",
              "          await google.colab.output.renderOutput(dataTable, element);\n",
              "          const docLink = document.createElement('div');\n",
              "          docLink.innerHTML = docLinkHtml;\n",
              "          element.appendChild(docLink);\n",
              "        }\n",
              "      </script>\n",
              "    </div>\n",
              "  </div>\n",
              "  "
            ]
          },
          "metadata": {},
          "execution_count": 19
        }
      ],
      "source": [
        "data.head()"
      ]
    },
    {
      "cell_type": "code",
      "execution_count": null,
      "id": "deb024e0",
      "metadata": {
        "colab": {
          "base_uri": "https://localhost:8080/",
          "height": 374
        },
        "id": "deb024e0",
        "outputId": "552b1f1e-ae82-436e-d387-f1a92dafd3a3"
      },
      "outputs": [
        {
          "output_type": "display_data",
          "data": {
            "text/plain": [
              "<Figure size 431.375x360 with 6 Axes>"
            ],
            "image/png": "[encoded data removed]"
          },
          "metadata": {
            "needs_background": "light"
          }
        }
      ],
      "source": [
        "import seaborn as sns\n",
        "import matplotlib.pyplot as plt\n",
        "\n",
        "sns.pairplot(data,hue='Blood_Group',markers='+', palette='Reds')\n",
        "plt.show()"
      ]
    },
    {
      "cell_type": "code",
      "execution_count": null,
      "id": "7eadd4c4",
      "metadata": {
        "colab": {
          "base_uri": "https://localhost:8080/",
          "height": 425
        },
        "id": "7eadd4c4",
        "outputId": "724beb50-229b-4315-a806-63b858e17afa"
      },
      "outputs": [
        {
          "output_type": "display_data",
          "data": {
            "text/plain": [
              "<Figure size 504x360 with 2 Axes>"
            ],
            "image/png": "[encoded data removed]"
          },
          "metadata": {
            "needs_background": "light"
          }
        }
      ],
      "source": [
        "plt.figure(figsize=(7,5))\n",
        "sns.heatmap(data.corr(),annot=True, cmap='Reds')\n",
        "plt.show()"
      ]
    },
    {
      "cell_type": "code",
      "execution_count": null,
      "id": "43551d3b",
      "metadata": {
        "id": "43551d3b"
      },
      "outputs": [],
      "source": [
        "# Defining the x and y datasets\n",
        "X=data.drop(['Blood_Group'],axis=1)\n",
        "y=data['Blood_Group']"
      ]
    },
    {
      "cell_type": "code",
      "execution_count": null,
      "id": "288e731d",
      "metadata": {
        "id": "288e731d"
      },
      "outputs": [],
      "source": [
        "# Splitting the x and y sets into train and test data\n",
        "from sklearn.model_selection import train_test_split\n",
        "X_train,X_test,y_train,y_test =train_test_split(X,y,test_size=0.20,random_state=1)"
      ]
    },
    {
      "cell_type": "markdown",
      "source": [
        "Using different algorithms to train the data for maximum accuracy"
      ],
      "metadata": {
        "id": "OlC4n76pZuZg"
      },
      "id": "OlC4n76pZuZg"
    },
    {
      "cell_type": "code",
      "execution_count": null,
      "id": "b2175bb2",
      "metadata": {
        "id": "b2175bb2"
      },
      "outputs": [],
      "source": [
        "#Stochastic Gradient Descent\n",
        "from sklearn import linear_model\n",
        "from sklearn.linear_model import SGDClassifier\n",
        "sgd=linear_model.SGDClassifier(max_iter=5,tol=None)\n",
        "sgd.fit(X_train,y_train)\n",
        "y_pred=sgd.predict(X_test)\n",
        "\n",
        "sgd.score(X_train,y_train)\n",
        "\n",
        "acc_sgd=round(sgd.score(X_train,y_train)*100,2)"
      ]
    },
    {
      "cell_type": "code",
      "execution_count": null,
      "id": "43e38f02",
      "metadata": {
        "id": "43e38f02"
      },
      "outputs": [],
      "source": [
        "#Random Forest\n",
        "from sklearn.ensemble import RandomForestClassifier\n",
        "random_forest=RandomForestClassifier(n_estimators=100)\n",
        "random_forest.fit(X_train,y_train)\n",
        "\n",
        "y_prediction=random_forest.predict(X_test)\n",
        "\n",
        "random_forest.score(X_train,y_train)\n",
        "acc_random_forest=round(random_forest.score(X_train,y_train)*100,2)"
      ]
    },
    {
      "cell_type": "code",
      "execution_count": null,
      "id": "bed6dda6",
      "metadata": {
        "colab": {
          "base_uri": "https://localhost:8080/"
        },
        "id": "bed6dda6",
        "outputId": "2a9c1530-b53c-4a93-ce78-6b589efb77bd"
      },
      "outputs": [
        {
          "output_type": "stream",
          "name": "stderr",
          "text": [
            "/usr/local/lib/python3.8/dist-packages/sklearn/linear_model/_logistic.py:814: ConvergenceWarning: lbfgs failed to converge (status=1):\n",
            "STOP: TOTAL NO. of ITERATIONS REACHED LIMIT.\n",
            "\n",
            "Increase the number of iterations (max_iter) or scale the data as shown in:\n",
            "    https://scikit-learn.org/stable/modules/preprocessing.html\n",
            "Please also refer to the documentation for alternative solver options:\n",
            "    https://scikit-learn.org/stable/modules/linear_model.html#logistic-regression\n",
            "  n_iter_i = _check_optimize_result(\n"
          ]
        }
      ],
      "source": [
        "#Logistic Regression\n",
        "from sklearn.linear_model import LogisticRegression\n",
        "logreg=LogisticRegression()\n",
        "logreg.fit(X_train,y_train)\n",
        "\n",
        "y_pred=logreg.predict(X_test)\n",
        "acc_log=round(logreg.score(X_train,y_train)*100,2)"
      ]
    },
    {
      "cell_type": "code",
      "execution_count": null,
      "id": "1cf56017",
      "metadata": {
        "id": "1cf56017"
      },
      "outputs": [],
      "source": [
        "#KNN\n",
        "from sklearn.neighbors import KNeighborsClassifier\n",
        "knn=KNeighborsClassifier(n_neighbors=3)\n",
        "knn.fit(X_train,y_train)\n",
        "y_pred=knn.predict(X_test)\n",
        "acc_knn=round(knn.score(X_train,y_train)*100,2)"
      ]
    },
    {
      "cell_type": "code",
      "execution_count": null,
      "id": "c1cb02bf",
      "metadata": {
        "id": "c1cb02bf"
      },
      "outputs": [],
      "source": [
        "#gaussian naive bayes\n",
        "from sklearn.naive_bayes import GaussianNB\n",
        "gaussian=GaussianNB()\n",
        "gaussian.fit(X_train,y_train)\n",
        "y_pred=gaussian.predict(X_test)\n",
        "acc_gaussian=round(gaussian.score(X_train,y_train)*100,2)"
      ]
    },
    {
      "cell_type": "code",
      "execution_count": null,
      "id": "a07cec21",
      "metadata": {
        "id": "a07cec21"
      },
      "outputs": [],
      "source": [
        "#perceptron\n",
        "from sklearn.linear_model import Perceptron\n",
        "perceptron=Perceptron(max_iter=30)\n",
        "perceptron.fit(X_train,y_train)\n",
        "y_pred=perceptron.predict(X_test)\n",
        "acc_perceptron=round(perceptron.score(X_train,y_train)*100,2)"
      ]
    },
    {
      "cell_type": "code",
      "execution_count": null,
      "id": "15291e32",
      "metadata": {
        "colab": {
          "base_uri": "https://localhost:8080/"
        },
        "id": "15291e32",
        "outputId": "17a20477-ba80-4f8e-ba8d-84cd62f21090"
      },
      "outputs": [
        {
          "output_type": "stream",
          "name": "stderr",
          "text": [
            "/usr/local/lib/python3.8/dist-packages/sklearn/svm/_base.py:1206: ConvergenceWarning: Liblinear failed to converge, increase the number of iterations.\n",
            "  warnings.warn(\n"
          ]
        }
      ],
      "source": [
        "#linear support vector machine\n",
        "from sklearn.svm import SVC, LinearSVC\n",
        "linear_svc=LinearSVC()\n",
        "linear_svc.fit(X_train,y_train)\n",
        "\n",
        "y_pred=linear_svc.predict(X_test)\n",
        "acc_linear_svc=round(linear_svc.score(X_train,y_train)*100,2)"
      ]
    },
    {
      "cell_type": "code",
      "execution_count": null,
      "id": "183f9487",
      "metadata": {
        "id": "183f9487"
      },
      "outputs": [],
      "source": [
        "#decision tree\n",
        "from sklearn.tree import DecisionTreeClassifier\n",
        "decision_tree=DecisionTreeClassifier()\n",
        "decision_tree.fit(X_train,y_train)\n",
        "y_pred=decision_tree.predict(X_test)\n",
        "acc_decision_tree=round(decision_tree.score(X_train,y_train)*100,2)"
      ]
    },
    {
      "cell_type": "code",
      "execution_count": null,
      "id": "54731bb1",
      "metadata": {
        "colab": {
          "base_uri": "https://localhost:8080/",
          "height": 331
        },
        "id": "54731bb1",
        "outputId": "c9077fa4-fab7-4d0e-8308-5acd4f6c709a"
      },
      "outputs": [
        {
          "output_type": "execute_result",
          "data": {
            "text/plain": [
              "                            Model\n",
              "Score                            \n",
              "33.23                  Perceptron\n",
              "40.92  Stochastic Gradient Decent\n",
              "43.69     Support Vector Machines\n",
              "47.08         Logistic Regression\n",
              "55.38                 Naive Bayes\n",
              "67.38                         KNN\n",
              "68.92               Random Forest\n",
              "68.92               Decision Tree"
            ],
            "text/html": [
              "\n",
              "  <div id=\"df-f5bed7db-c246-4ee1-90ba-c0c9ff9f941e\">\n",
              "    <div class=\"colab-df-container\">\n",
              "      <div>\n",
              "<style scoped>\n",
              "    .dataframe tbody tr th:only-of-type {\n",
              "        vertical-align: middle;\n",
              "    }\n",
              "\n",
              "    .dataframe tbody tr th {\n",
              "        vertical-align: top;\n",
              "    }\n",
              "\n",
              "    .dataframe thead th {\n",
              "        text-align: right;\n",
              "    }\n",
              "</style>\n",
              "<table border=\"1\" class=\"dataframe\">\n",
              "  <thead>\n",
              "    <tr style=\"text-align: right;\">\n",
              "      <th></th>\n",
              "      <th>Model</th>\n",
              "    </tr>\n",
              "    <tr>\n",
              "      <th>Score</th>\n",
              "      <th></th>\n",
              "    </tr>\n",
              "  </thead>\n",
              "  <tbody>\n",
              "    <tr>\n",
              "      <th>33.23</th>\n",
              "      <td>Perceptron</td>\n",
              "    </tr>\n",
              "    <tr>\n",
              "      <th>40.92</th>\n",
              "      <td>Stochastic Gradient Decent</td>\n",
              "    </tr>\n",
              "    <tr>\n",
              "      <th>43.69</th>\n",
              "      <td>Support Vector Machines</td>\n",
              "    </tr>\n",
              "    <tr>\n",
              "      <th>47.08</th>\n",
              "      <td>Logistic Regression</td>\n",
              "    </tr>\n",
              "    <tr>\n",
              "      <th>55.38</th>\n",
              "      <td>Naive Bayes</td>\n",
              "    </tr>\n",
              "    <tr>\n",
              "      <th>67.38</th>\n",
              "      <td>KNN</td>\n",
              "    </tr>\n",
              "    <tr>\n",
              "      <th>68.92</th>\n",
              "      <td>Random Forest</td>\n",
              "    </tr>\n",
              "    <tr>\n",
              "      <th>68.92</th>\n",
              "      <td>Decision Tree</td>\n",
              "    </tr>\n",
              "  </tbody>\n",
              "</table>\n",
              "</div>\n",
              "      <button class=\"colab-df-convert\" onclick=\"convertToInteractive('df-f5bed7db-c246-4ee1-90ba-c0c9ff9f941e')\"\n",
              "              title=\"Convert this dataframe to an interactive table.\"\n",
              "              style=\"display:none;\">\n",
              "        \n",
              "  <svg xmlns=\"http://www.w3.org/2000/svg\" height=\"24px\"viewBox=\"0 0 24 24\"\n",
              "       width=\"24px\">\n",
              "    <path d=\"M0 0h24v24H0V0z\" fill=\"none\"/>\n",
              "    <path d=\"M18.56 5.44l.94 2.06.94-2.06 2.06-.94-2.06-.94-.94-2.06-.94 2.06-2.06.94zm-11 1L8.5 8.5l.94-2.06 2.06-.94-2.06-.94L8.5 2.5l-.94 2.06-2.06.94zm10 10l.94 2.06.94-2.06 2.06-.94-2.06-.94-.94-2.06-.94 2.06-2.06.94z\"/><path d=\"M17.41 7.96l-1.37-1.37c-.4-.4-.92-.59-1.43-.59-.52 0-1.04.2-1.43.59L10.3 9.45l-7.72 7.72c-.78.78-.78 2.05 0 2.83L4 21.41c.39.39.9.59 1.41.59.51 0 1.02-.2 1.41-.59l7.78-7.78 2.81-2.81c.8-.78.8-2.07 0-2.86zM5.41 20L4 18.59l7.72-7.72 1.47 1.35L5.41 20z\"/>\n",
              "  </svg>\n",
              "      </button>\n",
              "      \n",
              "  <style>\n",
              "    .colab-df-container {\n",
              "      display:flex;\n",
              "      flex-wrap:wrap;\n",
              "      gap: 12px;\n",
              "    }\n",
              "\n",
              "    .colab-df-convert {\n",
              "      background-color: #E8F0FE;\n",
              "      border: none;\n",
              "      border-radius: 50%;\n",
              "      cursor: pointer;\n",
              "      display: none;\n",
              "      fill: #1967D2;\n",
              "      height: 32px;\n",
              "      padding: 0 0 0 0;\n",
              "      width: 32px;\n",
              "    }\n",
              "\n",
              "    .colab-df-convert:hover {\n",
              "      background-color: #E2EBFA;\n",
              "      box-shadow: 0px 1px 2px rgba(60, 64, 67, 0.3), 0px 1px 3px 1px rgba(60, 64, 67, 0.15);\n",
              "      fill: #174EA6;\n",
              "    }\n",
              "\n",
              "    [theme=dark] .colab-df-convert {\n",
              "      background-color: #3B4455;\n",
              "      fill: #D2E3FC;\n",
              "    }\n",
              "\n",
              "    [theme=dark] .colab-df-convert:hover {\n",
              "      background-color: #434B5C;\n",
              "      box-shadow: 0px 1px 3px 1px rgba(0, 0, 0, 0.15);\n",
              "      filter: drop-shadow(0px 1px 2px rgba(0, 0, 0, 0.3));\n",
              "      fill: #FFFFFF;\n",
              "    }\n",
              "  </style>\n",
              "\n",
              "      <script>\n",
              "        const buttonEl =\n",
              "          document.querySelector('#df-f5bed7db-c246-4ee1-90ba-c0c9ff9f941e button.colab-df-convert');\n",
              "        buttonEl.style.display =\n",
              "          google.colab.kernel.accessAllowed ? 'block' : 'none';\n",
              "\n",
              "        async function convertToInteractive(key) {\n",
              "          const element = document.querySelector('#df-f5bed7db-c246-4ee1-90ba-c0c9ff9f941e');\n",
              "          const dataTable =\n",
              "            await google.colab.kernel.invokeFunction('convertToInteractive',\n",
              "                                                     [key], {});\n",
              "          if (!dataTable) return;\n",
              "\n",
              "          const docLinkHtml = 'Like what you see? Visit the ' +\n",
              "            '<a target=\"_blank\" href=https://colab.research.google.com/notebooks/data_table.ipynb>data table notebook</a>'\n",
              "            + ' to learn more about interactive tables.';\n",
              "          element.innerHTML = '';\n",
              "          dataTable['output_type'] = 'display_data';\n",
              "          await google.colab.output.renderOutput(dataTable, element);\n",
              "          const docLink = document.createElement('div');\n",
              "          docLink.innerHTML = docLinkHtml;\n",
              "          element.appendChild(docLink);\n",
              "        }\n",
              "      </script>\n",
              "    </div>\n",
              "  </div>\n",
              "  "
            ]
          },
          "metadata": {},
          "execution_count": 32
        }
      ],
      "source": [
        "results=pd.DataFrame({'Model':['Support Vector Machines','KNN','Logistic Regression','Random Forest','Naive Bayes','Perceptron','Stochastic Gradient Decent','Decision Tree'],'Score':[acc_linear_svc,acc_knn,acc_log,acc_random_forest,acc_gaussian,acc_perceptron,acc_sgd,acc_decision_tree]})\n",
        "result_df=results.sort_values(by='Score')\n",
        "result_df=result_df.set_index('Score')\n",
        "result_df.head(9)"
      ]
    },
    {
      "cell_type": "code",
      "source": [
        "results.plot(kind='bar', color='red')\n",
        "plt.xticks([0, 1, 2, 3, 4, 5, 6, 7], ['SVM', 'KNN', 'Logistic Regression', 'Random Forest', 'Naive Bayes', 'Perceptron', 'SGD', 'Decision Tree'], rotation=70, fontsize=8)\n",
        "plt.show()"
      ],
      "metadata": {
        "colab": {
          "base_uri": "https://localhost:8080/",
          "height": 331
        },
        "id": "m3XZP4saWiet",
        "outputId": "aade89d8-79ab-4c23-93cf-2440cf145e4b"
      },
      "id": "m3XZP4saWiet",
      "execution_count": null,
      "outputs": [
        {
          "output_type": "display_data",
          "data": {
            "text/plain": [
              "<Figure size 432x288 with 1 Axes>"
            ],
            "image/png": "[encoded data removed]"
          },
          "metadata": {
            "needs_background": "light"
          }
        }
      ]
    },
    {
      "cell_type": "code",
      "execution_count": null,
      "id": "aae3b273",
      "metadata": {
        "colab": {
          "base_uri": "https://localhost:8080/"
        },
        "id": "aae3b273",
        "outputId": "3f976878-b4d0-49f1-8a52-dc9fdfe8c48e"
      },
      "outputs": [
        {
          "output_type": "stream",
          "name": "stderr",
          "text": [
            "/usr/local/lib/python3.8/dist-packages/sklearn/model_selection/_split.py:676: UserWarning: The least populated class in y has only 1 members, which is less than n_splits=10.\n",
            "  warnings.warn(\n"
          ]
        },
        {
          "output_type": "stream",
          "name": "stdout",
          "text": [
            "Scores: [0.72727273 0.57575758 0.60606061 0.54545455 0.54545455 0.625\n",
            " 0.71875    0.6875     0.65625    0.625     ]\n",
            "Mean: 0.63125\n",
            "Standard Deviation: 0.06259347922072239\n"
          ]
        }
      ],
      "source": [
        "from sklearn.model_selection import cross_val_score\n",
        "rf=RandomForestClassifier(n_estimators=100)\n",
        "scores=cross_val_score(rf,X_train,y_train,cv=10,scoring=\"accuracy\")\n",
        "\n",
        "print(\"Scores:\",scores)\n",
        "print(\"Mean:\",scores.mean())\n",
        "print(\"Standard Deviation:\",scores.std())"
      ]
    },
    {
      "cell_type": "code",
      "execution_count": null,
      "id": "017a4cbd",
      "metadata": {
        "colab": {
          "base_uri": "https://localhost:8080/"
        },
        "id": "017a4cbd",
        "outputId": "63004c54-fd9a-4087-c891-e7a1b7cb7c8f"
      },
      "outputs": [
        {
          "output_type": "stream",
          "name": "stdout",
          "text": [
            "68.92 %\n"
          ]
        }
      ],
      "source": [
        "random_forest=RandomForestClassifier()\n",
        "random_forest.fit(X_train,y_train)\n",
        "y_prediction=random_forest.predict(X_test)\n",
        "\n",
        "random_forest.score(X_train,y_train)\n",
        "\n",
        "acc_random_forest=round(random_forest.score(X_train,y_train)*100,2)\n",
        "print(round(acc_random_forest,2,),\"%\")\n"
      ]
    },
    {
      "cell_type": "code",
      "execution_count": null,
      "id": "e3660bd2",
      "metadata": {
        "colab": {
          "base_uri": "https://localhost:8080/"
        },
        "id": "e3660bd2",
        "outputId": "075821d3-4376-453f-8648-384d9b5d4d8e"
      },
      "outputs": [
        {
          "output_type": "execute_result",
          "data": {
            "text/plain": [
              "array([6, 1, 6, 4, 4, 1, 4, 6, 4, 6, 0, 2, 6, 4, 6, 4, 0, 6, 6, 2, 6, 4,\n",
              "       6, 4, 0, 4, 6, 6, 6, 6, 0, 0, 4, 6, 0, 5, 6, 4, 6, 4, 4, 4, 0, 4,\n",
              "       6, 0, 4, 4, 0, 6, 0, 3, 4, 4, 4, 0, 0, 6, 4, 6, 4, 6, 4, 0, 0, 4,\n",
              "       4, 4, 6, 4, 4, 6, 6, 6, 6, 0, 4, 4, 0, 6, 0, 0])"
            ]
          },
          "metadata": {},
          "execution_count": 36
        }
      ],
      "source": [
        "y_prediction"
      ]
    },
    {
      "cell_type": "code",
      "execution_count": null,
      "id": "61475cd5",
      "metadata": {
        "id": "61475cd5",
        "colab": {
          "base_uri": "https://localhost:8080/"
        },
        "outputId": "f6513c1a-6486-436f-b724-a8399e73a650"
      },
      "outputs": [
        {
          "output_type": "execute_result",
          "data": {
            "text/plain": [
              "array([[13,  1,  1,  0,  0,  0,  2,  0],\n",
              "       [ 0,  1,  0,  0,  0,  0,  1,  0],\n",
              "       [ 0,  0,  0,  0,  1,  0,  1,  0],\n",
              "       [ 0,  0,  0,  0,  0,  0,  0,  0],\n",
              "       [ 1,  0,  1,  1, 17,  0,  1,  0],\n",
              "       [ 0,  0,  0,  0,  1,  0,  1,  0],\n",
              "       [ 4,  0,  0,  0, 10,  1, 21,  0],\n",
              "       [ 1,  0,  0,  0,  0,  0,  1,  0]])"
            ]
          },
          "metadata": {},
          "execution_count": 37
        }
      ],
      "source": [
        "from sklearn.metrics import confusion_matrix\n",
        "conf_matrix = confusion_matrix(y_true=y_test, y_pred=y_pred)\n",
        "conf_matrix"
      ]
    },
    {
      "cell_type": "code",
      "execution_count": null,
      "id": "2d462576",
      "metadata": {
        "colab": {
          "base_uri": "https://localhost:8080/",
          "height": 291
        },
        "id": "2d462576",
        "outputId": "93d5a289-ad36-42b1-9c7f-239f6ff94571"
      },
      "outputs": [
        {
          "output_type": "display_data",
          "data": {
            "text/plain": [
              "<Figure size 432x288 with 2 Axes>"
            ],
            "image/png": "[encoded data removed]"
          },
          "metadata": {
            "needs_background": "light"
          }
        }
      ],
      "source": [
        "ax = sns.heatmap(conf_matrix, annot=True, cmap='Reds')\n",
        "ax.set_xlabel('\\nPredicted Values')\n",
        "ax.set_ylabel('Actual Values ')\n",
        "\n",
        "plt.show()"
      ]
    }
  ],
  "metadata": {
    "kernelspec": {
      "display_name": "Python 3 (ipykernel)",
      "language": "python",
      "name": "python3"
    },
    "language_info": {
      "codemirror_mode": {
        "name": "ipython",
        "version": 3
      },
      "file_extension": ".py",
      "mimetype": "text/x-python",
      "name": "python",
      "nbconvert_exporter": "python",
      "pygments_lexer": "ipython3",
      "version": "3.9.7"
    },
    "colab": {
      "provenance": []
    }
  },
  "nbformat": 4,
  "nbformat_minor": 5
}